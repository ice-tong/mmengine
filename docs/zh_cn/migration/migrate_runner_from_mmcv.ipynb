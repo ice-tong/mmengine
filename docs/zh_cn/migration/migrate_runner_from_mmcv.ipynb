{
 "cells": [
  {
   "cell_type": "markdown",
   "metadata": {},
   "source": [
    "# 迁移 MMCV 执行器到 MMEngine\n",
    "\n",
    "## 简介\n",
    "\n",
    "随着支持的深度学习任务越来越多，用户的需求不断增加，MMCV 的执行器（Runner）逐渐难以满足需求。MMEngine 在执行器的基础上，进一步抽象出训练循环（EpochBasedTrainLoop/IterBasedTrainLoop）、验证循环（ValLoop）和测试循环（TestLoop）以满足更加复杂的训练流程。因此要想把 MMCV 的执行器迁移至 MMEngine，就需要将执行器拆分成执行器和循环两部分。在开始迁移前，建议先阅读[执行器教程](../tutorials/runner.md)"
   ]
  },
  {
   "cell_type": "markdown",
   "metadata": {},
   "source": [
    "## 执行器（Runner）\n",
    "\n",
    "正如[执行器教程](../tutorials/runner.md#手动构建模块来使用执行器)一节所述，使用执行器的某一项功能之前需要准备好对应功能所依赖的模块。本节主要介绍 MMCV 执行器和 MMEngine 执行器在准备训练、验证、测试模块的区别。\n",
    "\n",
    "### 准备日志器（logger）\n",
    "\n",
    "**MMCV 准备日志器**\n",
    "MMCV 需要在训练脚本里调用 `get_logger` 接口获得日志器，用它打印一些训练信息。日志器还是执行器的构造参数，\n",
    "\n",
    "```python\n",
    "logger = get_logger(name='custom', log_file=log_file, log_level=cfg.log_level)\n",
    "env_info_dict = collect_env()\n",
    "    env_info = '\\n'.join([(f'{k}: {v}') for k, v in env_info_dict.items()])\n",
    "    dash_line = '-' * 60 + '\\n'\n",
    "    logger.info('Environment info:\\n' + dash_line + env_info + '\\n' +\n",
    "                dash_line)\n",
    "...\n",
    "runner = Runner(\n",
    "    ...\n",
    "    logger=logger\n",
    "    ...)\n",
    "```\n",
    "\n",
    "**MMEngine 准备日志器**\n",
    "\n",
    "MMEngine 只需在执行器构造时传入日志器的日志等级。"
   ]
  },
  {
   "cell_type": "code",
   "execution_count": null,
   "metadata": {},
   "outputs": [],
   "source": [
    "log_level = 'INFO'"
   ]
  },
  {
   "cell_type": "markdown",
   "metadata": {},
   "source": [
    "### 设置随机种子\n",
    "\n",
    "**MMCV 设计随机种子**\n",
    "\n",
    "在训练脚本中手动的设置随机种子：\n",
    "\n",
    "```python\n",
    "...\n",
    "seed = init_random_seed(args.seed, device=cfg.device)\n",
    "seed = seed + dist.get_rank() if args.diff_seed else seed\n",
    "logger.info(f'Set random seed to {seed}, '\n",
    "            f'deterministic: {args.deterministic}')\n",
    "set_random_seed(seed, deterministic=args.deterministic)\n",
    "...\n",
    "```\n",
    "\n",
    "**MMEngine 设计随机种子**\n",
    "\n",
    "配置执行器的 `randomness` 参数即可，配置规则详见[执行器 api 文档](https://mmengine.readthedocs.io/zh_CN/latest/api.html#mmengine.runner.Runner.set_randomness)"
   ]
  },
  {
   "cell_type": "code",
   "execution_count": null,
   "metadata": {},
   "outputs": [],
   "source": [
    "randomness = dict(seed=5)"
   ]
  },
  {
   "cell_type": "markdown",
   "metadata": {},
   "source": [
    "### 配置训练环境\n",
    "\n",
    "MMCV 需要在训练脚本中实现配置环境变量，例如多进程启动方式、多进程通信后端等相关变量。而 MMEngine 只需要为执行器配置 `env_cfg`, 其默认值为 `dict(dist_cfg=dict(backend='nccl'))`，配置方式详见[执行器 api 文档](https://mmengine.readthedocs.io/zh_CN/latest/api.html#mmengine.runner.Runner.setup_env)，其默认值为："
   ]
  },
  {
   "cell_type": "code",
   "execution_count": null,
   "metadata": {},
   "outputs": [],
   "source": [
    "env_cfg = dict(dist_cfg=dict(backend='nccl'))"
   ]
  },
  {
   "cell_type": "markdown",
   "metadata": {},
   "source": [
    "\n",
    "\n",
    "\n",
    "\n",
    "### 准备数据\n",
    "\n",
    "MMCV 和 MMEngine 的执行器均可接受 DataLoader 类型的数据。因此准备数据的流程没有差异"
   ]
  },
  {
   "cell_type": "code",
   "execution_count": null,
   "metadata": {},
   "outputs": [],
   "source": [
    "import torchvision.transforms as transforms\n",
    "from torch.utils.data import DataLoader\n",
    "from torchvision.datasets import CIFAR10\n",
    "\n",
    "transform = transforms.Compose([\n",
    "    transforms.ToTensor(),\n",
    "    transforms.Normalize((0.5, 0.5, 0.5), (0.5, 0.5, 0.5))\n",
    "])\n",
    "\n",
    "train_dataset = CIFAR10(\n",
    "    root='data', train=True, download=True, transform=transform)\n",
    "train_dataloader = DataLoader(\n",
    "    train_dataset, batch_size=128, shuffle=True, num_workers=2)\n",
    "\n",
    "val_dataset = CIFAR10(\n",
    "    root='data', train=False, download=True, transform=transform)\n",
    "val_dataloader = DataLoader(\n",
    "    val_dataset, batch_size=128, shuffle=False, num_workers=2)"
   ]
  },
  {
   "cell_type": "markdown",
   "metadata": {},
   "source": [
    "### 准备模型\n",
    "\n",
    "详见[迁移 MMCV 模型至 MMEngine](./migrate_model_from_mmcv.md)\n"
   ]
  },
  {
   "cell_type": "code",
   "execution_count": null,
   "metadata": {},
   "outputs": [],
   "source": [
    "import torch.nn as nn\n",
    "import torch.nn.functional as F\n",
    "from mmengine.model import BaseModel\n",
    "\n",
    "\n",
    "class Model(BaseModel):\n",
    "\n",
    "    def __init__(self):\n",
    "        super().__init__()\n",
    "        self.conv1 = nn.Conv2d(3, 6, 5)\n",
    "        self.pool = nn.MaxPool2d(2, 2)\n",
    "        self.conv2 = nn.Conv2d(6, 16, 5)\n",
    "        self.fc1 = nn.Linear(16 * 5 * 5, 120)\n",
    "        self.fc2 = nn.Linear(120, 84)\n",
    "        self.fc3 = nn.Linear(84, 10)\n",
    "        self.loss_fn = nn.CrossEntropyLoss()\n",
    "\n",
    "    def forward(self, img, label, mode):\n",
    "        feat = self.pool(F.relu(self.conv1(img)))\n",
    "        feat = self.pool(F.relu(self.conv2(feat)))\n",
    "        feat = feat.view(-1, 16 * 5 * 5)\n",
    "        feat = F.relu(self.fc1(feat))\n",
    "        feat = F.relu(self.fc2(feat))\n",
    "        feat = self.fc3(feat)\n",
    "        if mode == 'loss':\n",
    "            loss = self.loss_fn(feat, label)\n",
    "            return dict(loss=loss)\n",
    "        else:\n",
    "            return [feat.argmax(1)]\n",
    "\n",
    "model = Model()"
   ]
  },
  {
   "cell_type": "markdown",
   "metadata": {},
   "source": [
    "需要注意的是，分布式训练时，MMCV 的执行器需要接受分布式封装后的模型，而 `MMEngine` 直接接受模型，在执行器实例化阶对其段进行分布式封装。"
   ]
  },
  {
   "cell_type": "markdown",
   "metadata": {},
   "source": [
    "### 分布式初始化\n",
    "\n",
    "**MMCV 分布式初始化**\n",
    "\n",
    "MMCV 需要在执行器构建之前初始化分布式环境，并对模型进行分布式封装：\n",
    "\n",
    "```python\n",
    "...\n",
    "init_dist(cfg.launcher, **cfg.dist_params)\n",
    "model = MMDistributedDataParallel(\n",
    "    model,\n",
    "    device_ids=[int(os.environ['LOCAL_RANK'])],\n",
    "    broadcast_buffers=False,\n",
    "    find_unused_parameters=find_unused_parameters)\n",
    "```\n",
    "\n",
    "**MMEngine 分布式初始化**\n",
    "\n",
    "执行器构造函数有 `launcher` 参数，如果其值不为 `None`，执行器构建阶段会自动执行分布式初始化，模型分布式封装的流程。换句话说，使用 `MMEngine` 的执行器时，我们无需在执行器外做分布式相关的操作，只需要配置 launcher 参数，选择训练的启动方式即可。"
   ]
  },
  {
   "cell_type": "markdown",
   "metadata": {},
   "source": [
    "### 准备优化器\n",
    "\n",
    "对于简单配置的优化，MMCV 和 MMEngine 的准备流程相同\n"
   ]
  },
  {
   "cell_type": "code",
   "execution_count": null,
   "metadata": {},
   "outputs": [],
   "source": [
    "from torch.optim import SGD\n",
    "\n",
    "optimizer = SGD(model.parameters(), lr=0.01)"
   ]
  },
  {
   "cell_type": "markdown",
   "metadata": {},
   "source": [
    "对于复杂配置的优化器，MMCV 需要基于优化器构造器构造器：\n",
    "\n",
    "```python\n",
    "\n",
    "optimizer_cfg = dict(\n",
    "    optimizer=dict(type='SGD', lr=0.01, weight_decay=0.0001),\n",
    "    paramwise_cfg=dict(norm_decay_mult=0))\n",
    "\n",
    "def build_optimizer_constructor(cfg):\n",
    "    constructor_type = cfg.get('type')\n",
    "    if constructor_type in OPTIMIZER_BUILDERS:\n",
    "        return build_from_cfg(cfg, OPTIMIZER_BUILDERS)\n",
    "    elif constructor_type in MMCV_OPTIMIZER_BUILDERS:\n",
    "        return build_from_cfg(cfg, MMCV_OPTIMIZER_BUILDERS)\n",
    "    else:\n",
    "        raise KeyError(f'{constructor_type} is not registered '\n",
    "                       'in the optimizer builder registry.')\n",
    "\n",
    "\n",
    "def build_optimizer(model, cfg):\n",
    "    optimizer_cfg = copy.deepcopy(cfg)\n",
    "    constructor_type = optimizer_cfg.pop('constructor',\n",
    "                                         'DefaultOptimizerConstructor')\n",
    "    paramwise_cfg = optimizer_cfg.pop('paramwise_cfg', None)\n",
    "    optim_constructor = build_optimizer_constructor(\n",
    "        dict(\n",
    "            type=constructor_type,\n",
    "            optimizer_cfg=optimizer_cfg,\n",
    "            paramwise_cfg=paramwise_cfg))\n",
    "    optimizer = optim_constructor(model)\n",
    "    return optimizer\n",
    "\n",
    "optimizer = build_optimizer(model, optimizer_cfg)\n",
    "```\n",
    "\n",
    "MMEngine 将上述流程封装在执行器中，因此无需定义 `build_optimizer`，在执行器实例化时传入 `optim_wrapper` 参数即可:\n",
    "\n",
    "```python\n",
    "optim_wrapper = build_optimizer(model, optimizer_cfg)\n",
    "runner = Runner(\n",
    "    ...\n",
    "    optim_wrapper=optim_wrapper,\n",
    "    ...\n",
    ")\n",
    "\n",
    "optim_wrapper 的配置详见[优化器封装教程](../tutorials/optim_wrapper.md)\n",
    "```"
   ]
  },
  {
   "cell_type": "markdown",
   "metadata": {},
   "source": [
    "### 准备训练钩子\n",
    "\n",
    "**MMCV 准备训练钩子：**\n",
    "\n",
    "MMCV 常用训练钩子的配置如下：\n",
    "\n",
    "```python\n",
    "# learning rate scheduler config\n",
    "lr_config = dict(policy='step', step=[2, 3])\n",
    "# configuration of optimizer\n",
    "optimizer_config = dict(grad_clip=None)\n",
    "# configuration of saving checkpoints periodically\n",
    "checkpoint_config = dict(interval=1)\n",
    "# save log periodically and multiple hooks can be used simultaneously\n",
    "log_config = dict(interval=100, hooks=[dict(type='TextLoggerHook')])\n",
    "# register hooks to runner and those hooks will be invoked automatically\n",
    "runner.register_training_hooks(\n",
    "    lr_config=lr_config,\n",
    "    optimizer_config=optimizer_config,\n",
    "    checkpoint_config=checkpoint_config,\n",
    "    log_config=log_config)\n",
    "```\n",
    "\n",
    "其中：\n",
    "\n",
    "- `lr_config` -> `LrUpdaterHook`\n",
    "- `optimizer_config` -> `OptimizerHook`\n",
    "- `checkpoint_config` -> `CheckPointHook`\n",
    "- `log_config` -> `LoggerHook`\n",
    "\n",
    "除了上面提到的 4 个 Hook，MMCV 执行器还默认配有 `IterTimerHook`。MMCV 需要先实例化执行器，再注册训练钩子，我们在后面的章节中对比二者实例化的区别。\n",
    "\n",
    "**MMEngine 准备训练钩子**\n",
    "\n",
    "MMEngine 执行器自带一些默认钩子：\n",
    "\n",
    "- RuntimeInfoHook\n",
    "- IterTimerHook\n",
    "- DistSamplerSeedHook\n",
    "- LoggerHook\n",
    "- ParamSchedulerHook\n",
    "- CheckpointHook\n",
    "\n",
    "因此我们可以在不额外配置训练钩子的情况下进行训练。\n",
    "\n",
    "```{note}\n",
    "MMEngine 移除了 `OptimizerHook`，优化步骤在 model 中执行。\n",
    "```"
   ]
  },
  {
   "cell_type": "markdown",
   "metadata": {},
   "source": [
    "### 准备验证模块\n",
    "\n",
    "MMCV 借助 `EvalHook` 实现验证流程，受限于篇幅，这里不做进一步展开。MMEngine 通过[验证循环（ValLoop）](../tutorials/runner.md#自定义执行流程) 和[评测器（Evaluator）](../tutorials/metric_and_evaluator.md)实现执行流程，如果我们想基于自定义的评价指标完成验证流程，则需要定义一个 `Metric`，并将其注册至 `METRICS` 注册器："
   ]
  },
  {
   "cell_type": "code",
   "execution_count": null,
   "metadata": {},
   "outputs": [],
   "source": [
    "import torch\n",
    "from mmengine.evaluator import BaseMetric\n",
    "from mmengine.registry import METRICS\n",
    "\n",
    "@METRICS.register_module()\n",
    "class ToyAccuracyMetric(BaseMetric):\n",
    "    \n",
    "    def process(self, label, pred) -> None:\n",
    "        self.results.append((label, pred, len(label)))\n",
    "    \n",
    "    def compute_metrics(self, results: list) -> dict:\n",
    "        num_sample = 0\n",
    "        acc = 0\n",
    "        for label, pred, batch_size in results:\n",
    "            acc = (torch.stack(label[1]) == torch.stack(pred)).sum()\n",
    "            num_sample += batch_size\n",
    "        return acc / num_sample"
   ]
  },
  {
   "cell_type": "code",
   "execution_count": null,
   "metadata": {},
   "outputs": [],
   "source": [
    "val_evaluator = dict(type='ToyAccuracyMetric')"
   ]
  },
  {
   "cell_type": "markdown",
   "metadata": {},
   "source": [
    "此外，我们还需要配置[验证循环（ValLoop）](../tutorials/runner.md#自定义执行流程) 和"
   ]
  },
  {
   "cell_type": "code",
   "execution_count": null,
   "metadata": {},
   "outputs": [],
   "source": [
    "val_cfg = dict(type='ValLoop')"
   ]
  },
  {
   "cell_type": "markdown",
   "metadata": {},
   "source": [
    "### 构建执行器\n",
    "\n",
    "**MMCV 构建执行器**\n",
    "\n",
    "```python\n",
    "runner = EpochBasedRunner(\n",
    "    model=model,\n",
    "    optimizer=optimizer,\n",
    "    work_dir=work_dir,\n",
    "    logger=logger,\n",
    "    max_epochs=4\n",
    ")\n",
    "```\n",
    "\n",
    "**MMEngine 构建执行器**\n",
    "\n",
    "`MMEngine` 执行器的作用域比 MMCV 更广，把很多配置流程参数化，例如设置随机种子、启动分布式训练，因此需要接受更多的参数。除了前几节提到的参数，EpochBasedRunner，IterBasedRunner，max_epochs，max_iters，val_iterval 等配置（之前由 EvalHook 决定） 在 train_cfg 里体现：\n",
    "\n",
    "- by_epoch: `True` 时相当于 MMCV 的 `EpochBasedRunner`，False 时相当于 `IterBasedRunner`。\n",
    "- max_epoch/max_iters: 同 MMCV 执行器的配置\n",
    "- val_iterval: 同 `EvalHook` 的 `interval` 参数"
   ]
  },
  {
   "cell_type": "code",
   "execution_count": null,
   "metadata": {},
   "outputs": [],
   "source": [
    "from mmengine import Runner\n",
    "\n",
    "runner = Runner(\n",
    "    model=model,\n",
    "    work_dir='./work_dir',\n",
    "    randomness=randomness,\n",
    "    env_cfg=env_cfg,\n",
    "    launcher='none',  # 不开启分布式训练\n",
    "    optim_wrapper=dict(optimizer=dict(type='SGD', lr=0.001, momentum=0.9)),\n",
    "    train_dataloader=train_dataloader,\n",
    "    train_cfg=dict(by_epoch=True, max_epochs=5, val_interval=1),\n",
    "    val_dataloader=val_dataloader,\n",
    "    val_evaluator=val_evaluator,\n",
    "    val_cfg=val_cfg)"
   ]
  },
  {
   "cell_type": "markdown",
   "metadata": {},
   "source": [
    "### 执行器训练流程\n",
    "\n",
    "**MMCV 执行器训练流程**：\n",
    "\n",
    "需要在训练之前执行加载权重、恢复训练的流程。然后再执行 runner.run()，传入需要训练的数据。\n",
    "\n",
    "```python\n",
    "if cfg.resume_from:\n",
    "    runner.resume(cfg.resume_from)\n",
    "elif cfg.load_from:\n",
    "    runner.load_checkpoint(cfg.load_from)\n",
    "runner.run(data_loaders, cfg.workflow)\n",
    "```\n",
    "\n",
    "\n",
    "**MMEngine** 执行器训练流程\n",
    "\n",
    "如果需要加载权重或恢复训练，可以在执行器构建时配置\n",
    "\n",
    "```python\n",
    "runner = Runner(\n",
    "    ...\n",
    "    load_from='/path/to/checkpoint',\n",
    "    resume=True\n",
    ")\n",
    "```\n",
    "\n",
    "然后执行"
   ]
  },
  {
   "cell_type": "code",
   "execution_count": null,
   "metadata": {},
   "outputs": [],
   "source": [
    "runner.train()"
   ]
  },
  {
   "cell_type": "markdown",
   "metadata": {},
   "source": [
    "由于 MMEngine 的执行器在构造阶段就传入了训练数据，因此在调用 runner.train() 无需传入参数。"
   ]
  },
  {
   "cell_type": "markdown",
   "metadata": {},
   "source": [
    "### 执行器测试流程\n",
    "\n",
    "MMCV 的执行器没有测试功能，需要自行实现测试脚本，而 MMEngine 执行测试流程只需要在执行器构建时配置相应模块："
   ]
  },
  {
   "cell_type": "code",
   "execution_count": null,
   "metadata": {},
   "outputs": [],
   "source": [
    "runner = Runner(\n",
    "    model=model,\n",
    "    work_dir='./work_dir',\n",
    "    randomness=randomness,\n",
    "    env_cfg=env_cfg,\n",
    "    launcher='none',  # 不开启分布式训练\n",
    "    optim_wrapper=dict(optimizer=dict(type='SGD', lr=0.001, momentum=0.9)),\n",
    "    train_dataloader=train_dataloader,\n",
    "    train_cfg=dict(by_epoch=True, max_epochs=5, val_interval=1),\n",
    "    val_dataloader=val_dataloader,\n",
    "    val_evaluator=val_evaluator,\n",
    "    val_cfg=val_cfg,\n",
    "    test_dataloader=val_dataloader,  # 假设测试和验证使用相同的数据和评测器\n",
    "    test_evaluator=val_evaluator,\n",
    "    test_cfg=val_cfg,\n",
    "    )\n",
    "runner.test()"
   ]
  },
  {
   "cell_type": "markdown",
   "metadata": {},
   "source": []
  }
 ],
 "metadata": {
  "kernelspec": {
   "display_name": "Python 3.8.13 ('pytorch1.10')",
   "language": "python",
   "name": "python3"
  },
  "language_info": {
   "codemirror_mode": {
    "name": "ipython",
    "version": 3
   },
   "file_extension": ".py",
   "mimetype": "text/x-python",
   "name": "python",
   "nbconvert_exporter": "python",
   "pygments_lexer": "ipython3",
   "version": "3.8.13"
  },
  "orig_nbformat": 4,
  "vscode": {
   "interpreter": {
    "hash": "1300b4528809125cefa03f7ec583554413ff36babe363d1cb0c50993fdcbd301"
   }
  }
 },
 "nbformat": 4,
 "nbformat_minor": 2
}
